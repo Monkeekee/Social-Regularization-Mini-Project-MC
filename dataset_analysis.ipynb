{
 "cells": [
  {
   "cell_type": "markdown",
   "metadata": {},
   "source": [
    "# Dataset analysis\n",
    "There are two samples of social networks to analyse in this study : Epinions and Delicious.\n",
    "We'll be using two files for the two of them, hence 4 files.\n",
    "For each dataset there are a file for a user-user graph, and a file for a user-item graph.\n",
    "+ Epinions : trust relashionships are unidirectional, an item is about an online buyable item on which a user lend a rewiew with a rating.\n",
    "+ Delicious : contact relashonships are reciprocal, an item is a tag associated with a bookmark made by a user.\n",
    "\n",
    "Overall, we want to make statistics over 2 kinds connexions in each social networks : we'll first check about relationship between users, then between users and items."
   ]
  },
  {
   "cell_type": "code",
   "execution_count": 1,
   "metadata": {},
   "outputs": [
    {
     "name": "stdout",
     "output_type": "stream",
     "text": [
      "Collecting networkx\n",
      "  Downloading https://files.pythonhosted.org/packages/f3/b7/c7f488101c0bb5e4178f3cde416004280fd40262433496830de8a8c21613/networkx-2.5.1-py3-none-any.whl (1.6MB)\n",
      "\u001b[K    100% |████████████████████████████████| 1.6MB 144kB/s ta 0:00:01\n",
      "\u001b[?25hCollecting decorator<5,>=4.3 (from networkx)\n",
      "  Downloading https://files.pythonhosted.org/packages/ed/1b/72a1821152d07cf1d8b6fce298aeb06a7eb90f4d6d41acec9861e7cc6df0/decorator-4.4.2-py2.py3-none-any.whl\n",
      "Installing collected packages: decorator, networkx\n",
      "Successfully installed decorator-4.4.2 networkx-2.5.1\n"
     ]
    }
   ],
   "source": [
    "!pip3 install networkx"
   ]
  },
  {
   "cell_type": "code",
   "execution_count": 81,
   "metadata": {},
   "outputs": [],
   "source": [
    "import networkx as nx\n",
    "import pandas as pd\n",
    "import numpy as np"
   ]
  },
  {
   "cell_type": "markdown",
   "metadata": {},
   "source": [
    "## Epinions - user-user dataset"
   ]
  },
  {
   "cell_type": "markdown",
   "metadata": {},
   "source": [
    "We must first clean the mess within Epinions trust dataset in order to import it in a NetworkX graph."
   ]
  },
  {
   "cell_type": "code",
   "execution_count": 82,
   "metadata": {},
   "outputs": [],
   "source": [
    "path_trust_epi = './trust_data.txt'\n",
    "path_trust_epi_clean = './trust_data_clean.txt'"
   ]
  },
  {
   "cell_type": "code",
   "execution_count": 83,
   "metadata": {},
   "outputs": [],
   "source": [
    "import os\n",
    "def remove_space(path,path_clean):\n",
    "    if os.path.exists(path_clean):\n",
    "        os.remove(path_clean)\n",
    "    with open(path_clean, 'w') as file_clean:\n",
    "        with open(path, 'r') as file:\n",
    "            for line in file:\n",
    "                file_clean.write(line[1:-1]+'\\n')"
   ]
  },
  {
   "cell_type": "code",
   "execution_count": 84,
   "metadata": {},
   "outputs": [],
   "source": [
    "remove_space(path_trust_epi,path_trust_epi_clean)"
   ]
  },
  {
   "cell_type": "code",
   "execution_count": 85,
   "metadata": {},
   "outputs": [],
   "source": [
    "G = nx.read_edgelist(path_trust_epi_clean, create_using=nx.DiGraph, nodetype=int, data=((\"weight\", int),))"
   ]
  },
  {
   "cell_type": "markdown",
   "metadata": {},
   "source": [
    "### Size"
   ]
  },
  {
   "cell_type": "code",
   "execution_count": 86,
   "metadata": {},
   "outputs": [
    {
     "name": "stdout",
     "output_type": "stream",
     "text": [
      "nodes (users): 49288 | edges (trust relations): 487183\n",
      "mean number of trust relation per user: 9.884414056159715\n"
     ]
    }
   ],
   "source": [
    "trust_size = len(G.nodes)\n",
    "trust_nb_edges = len(G.edges)\n",
    "\n",
    "print(\"nodes (users):\", trust_size, \"|\", \"edges (trust relations):\", trust_nb_edges)\n",
    "print(\"mean number of trust relation per user:\", trust_nb_edges/trust_size)"
   ]
  },
  {
   "cell_type": "markdown",
   "metadata": {},
   "source": [
    "### Distribution"
   ]
  },
  {
   "cell_type": "code",
   "execution_count": 87,
   "metadata": {},
   "outputs": [],
   "source": [
    "import matplotlib.pyplot as plt\n",
    "\n",
    "def plot_degree_dist(nodes,degree_func,bin_size):\n",
    "    degrees = [degree_func(n) for n in nodes]\n",
    "    plt.yscale('log')\n",
    "    #plt.xscale('log')\n",
    "    density = plt.hist(degrees, bins=[i for i in range(0,max(degrees)+bin_size,bin_size)])\n",
    "    plt.show()\n",
    "    return density"
   ]
  },
  {
   "cell_type": "code",
   "execution_count": 90,
   "metadata": {},
   "outputs": [
    {
     "data": {
      "image/png": "[encoded data removed]",
      "text/plain": [
       "<Figure size 432x288 with 1 Axes>"
      ]
     },
     "metadata": {
      "needs_background": "light"
     },
     "output_type": "display_data"
    }
   ],
   "source": [
    "density = plot_degree_dist(G.nodes(),G.out_degree,10)"
   ]
  },
  {
   "cell_type": "code",
   "execution_count": 91,
   "metadata": {},
   "outputs": [
    {
     "name": "stdout",
     "output_type": "stream",
     "text": [
      "0.8129970783963643 0\n"
     ]
    }
   ],
   "source": [
    "print(max(density[0])/trust_size,np.argmax(density[0]))"
   ]
  },
  {
   "cell_type": "markdown",
   "metadata": {},
   "source": [
    "The size of the bins are currently 10 (mostly 10 in the following histograms) and the Y-scale is logarithmic in every histogram we'll show. Indeed the datasets we are looking into have the same distribution laws in terms of connexion between users, but also between users and items.\n",
    "\n",
    "\n",
    "The most populated interval for out degree distribution is [0, 9] (second is [10, 19], then [20, 29], etc).\n",
    "Here we have 81\\% of the users who trust less than 9 other users. This first bin already contains most of the users."
   ]
  },
  {
   "cell_type": "code",
   "execution_count": 92,
   "metadata": {},
   "outputs": [
    {
     "name": "stdout",
     "output_type": "stream",
     "text": [
      "number of isolated nodes :  0\n"
     ]
    }
   ],
   "source": [
    "print(\"number of isolated nodes : \",len(list(nx.isolates(G))))"
   ]
  },
  {
   "cell_type": "markdown",
   "metadata": {},
   "source": [
    "There is no isolated node in this dataset, so it means 70% users trust between 1 and 4 other users."
   ]
  },
  {
   "cell_type": "markdown",
   "metadata": {},
   "source": [
    "### Distribution law\n",
    "We can see that our Epinions trust dataset follows a Pareto distribution. This is the 80-20 repartition type of the exponential distribution law, which means the first class is 80% of the total population, the second most is way less represented than the first, etc. Here our classes are filled with the number of users that have their number of trusted users within a particular interval of constant size (= 10)."
   ]
  },
  {
   "cell_type": "markdown",
   "metadata": {},
   "source": [
    "### Graph Density"
   ]
  },
  {
   "cell_type": "code",
   "execution_count": 52,
   "metadata": {},
   "outputs": [
    {
     "data": {
      "text/plain": [
       "0.00020054809698621774"
      ]
     },
     "execution_count": 52,
     "metadata": {},
     "output_type": "execute_result"
    }
   ],
   "source": [
    "nx.density(G)"
   ]
  },
  {
   "cell_type": "markdown",
   "metadata": {},
   "source": [
    "Our social media has a very low density, which means that the user-user matrix will be very sparse."
   ]
  },
  {
   "cell_type": "markdown",
   "metadata": {},
   "source": [
    "### Matrix sparcity in a user-user graph representation\n",
    "\n",
    "The matrix sparcity degree is given by the total size of the matrix `(n*m)` less twice the number of edges `e` for a symetrical matrix (representing an undirected graph) divided by the size of the matrix : `((n*m)-2*e)/(m*n)`\n",
    "\n",
    "In the case of a directed graph, the matrix is not symetrical, so the formula is `((n*m)-e)/(m*n)`. User-items matrix are always considered directed in this calculation.\n",
    "\n",
    "This sparcity degree is between 0 and 1. 0 for a fully connected graph (hence matrix full of 0) or 1 if the graph is fully disconnected."
   ]
  },
  {
   "cell_type": "code",
   "execution_count": 93,
   "metadata": {},
   "outputs": [],
   "source": [
    "def matrix_sparcity(n,m,e,directed=False):\n",
    "    a = 2\n",
    "    if directed :\n",
    "        a = 1\n",
    "    return ((n*m)-a*2)/(n*m)"
   ]
  },
  {
   "cell_type": "code",
   "execution_count": 110,
   "metadata": {},
   "outputs": [
    {
     "data": {
      "text/plain": [
       "0.9999999991767199"
      ]
     },
     "execution_count": 110,
     "metadata": {},
     "output_type": "execute_result"
    }
   ],
   "source": [
    "matrix_sparcity(trust_size,trust_size,trust_nb_edges,True)"
   ]
  },
  {
   "cell_type": "markdown",
   "metadata": {},
   "source": [
    "With a matrix this sparse, it is necessary to go through methods such as singular value decomposition (SVD) to reduce the effect of sparcity before doing machine learning with the matrix representation of the graph."
   ]
  },
  {
   "cell_type": "markdown",
   "metadata": {},
   "source": [
    "## Delicious - user-user dataset"
   ]
  },
  {
   "cell_type": "code",
   "execution_count": 99,
   "metadata": {},
   "outputs": [],
   "source": [
    "path_contact_del = './user_contacts-timestamps.dat'"
   ]
  },
  {
   "cell_type": "code",
   "execution_count": 100,
   "metadata": {},
   "outputs": [],
   "source": [
    "data = np.genfromtxt(path_contact_del,\n",
    "                     skip_header=1,\n",
    "                     dtype=int,\n",
    "                     names=True,\n",
    "                     usecols=(0,1),\n",
    "                     delimiter='\\t')"
   ]
  },
  {
   "cell_type": "code",
   "execution_count": 101,
   "metadata": {},
   "outputs": [],
   "source": [
    "G_del = nx.from_edgelist(data)"
   ]
  },
  {
   "cell_type": "markdown",
   "metadata": {},
   "source": [
    "Note that this time, the graph is undirected."
   ]
  },
  {
   "cell_type": "markdown",
   "metadata": {},
   "source": [
    "### Size"
   ]
  },
  {
   "cell_type": "code",
   "execution_count": 102,
   "metadata": {},
   "outputs": [
    {
     "name": "stdout",
     "output_type": "stream",
     "text": [
      "edges: 7664 | nodes: 1861\n",
      "mean number of contact relation per user: 4.118216012896292\n"
     ]
    }
   ],
   "source": [
    "contact_size = len(list(G_del.edges))\n",
    "user_size = len(list(G_del.nodes))\n",
    "print(\"edges:\",contact_size,\"| nodes:\", user_size)\n",
    "print(\"mean number of contact relation per user:\", contact_size/user_size)"
   ]
  },
  {
   "cell_type": "code",
   "execution_count": 103,
   "metadata": {},
   "outputs": [
    {
     "name": "stdout",
     "output_type": "stream",
     "text": [
      "number of isolated nodes :  0\n"
     ]
    }
   ],
   "source": [
    "print(\"number of isolated nodes : \",len(list(nx.isolates(G_del))))"
   ]
  },
  {
   "cell_type": "markdown",
   "metadata": {},
   "source": [
    "### Distribution"
   ]
  },
  {
   "cell_type": "code",
   "execution_count": 104,
   "metadata": {},
   "outputs": [
    {
     "data": {
      "image/png": "[encoded data removed]",
      "text/plain": [
       "<Figure size 432x288 with 1 Axes>"
      ]
     },
     "metadata": {
      "needs_background": "light"
     },
     "output_type": "display_data"
    }
   ],
   "source": [
    "density_del = plot_degree_dist(G_del.nodes(),G_del.degree,10)"
   ]
  },
  {
   "cell_type": "code",
   "execution_count": 105,
   "metadata": {},
   "outputs": [
    {
     "name": "stdout",
     "output_type": "stream",
     "text": [
      "0.7345513164965073 0\n"
     ]
    }
   ],
   "source": [
    "print(max(density_del[0])/user_size,np.argmax(density_del[0]))"
   ]
  },
  {
   "cell_type": "markdown",
   "metadata": {},
   "source": [
    "This time we take a bin size of 10 since we can see more clarly in the histogram.\n",
    "\n",
    "We observe the same phenomenom : 73\\% of users have between 1 and 9 contacts, even with an undirected graph."
   ]
  },
  {
   "cell_type": "markdown",
   "metadata": {},
   "source": [
    "### Distribution law\n",
    "Same as the previous dataset for the relationships between users : Pareto distribution"
   ]
  },
  {
   "cell_type": "markdown",
   "metadata": {},
   "source": [
    "### Density"
   ]
  },
  {
   "cell_type": "code",
   "execution_count": 107,
   "metadata": {},
   "outputs": [
    {
     "data": {
      "text/plain": [
       "0.0044281892611788085"
      ]
     },
     "execution_count": 107,
     "metadata": {},
     "output_type": "execute_result"
    }
   ],
   "source": [
    "nx.density(G_del)"
   ]
  },
  {
   "cell_type": "markdown",
   "metadata": {},
   "source": [
    "This dataset is a lot less sparce than Epinions, which means that the Delicious user-user matrix will be sparse\n",
    "but a lot less that what we estimated in Epinions. It is a bit obvious since this graph is undirected and the Epinions' relationship between users are non-reciprocal, hence the edges are directed."
   ]
  },
  {
   "cell_type": "markdown",
   "metadata": {},
   "source": [
    "### Matrix sparcity"
   ]
  },
  {
   "cell_type": "code",
   "execution_count": 109,
   "metadata": {},
   "outputs": [
    {
     "data": {
      "text/plain": [
       "0.9999988450391979"
      ]
     },
     "execution_count": 109,
     "metadata": {},
     "output_type": "execute_result"
    }
   ],
   "source": [
    "matrix_sparcity(user_size,user_size,contact_size)"
   ]
  },
  {
   "cell_type": "markdown",
   "metadata": {},
   "source": [
    "## Epinions - User-items dataset"
   ]
  },
  {
   "cell_type": "code",
   "execution_count": 34,
   "metadata": {},
   "outputs": [],
   "source": [
    "rating_path = \"./ratings_data.txt\""
   ]
  },
  {
   "cell_type": "code",
   "execution_count": 35,
   "metadata": {},
   "outputs": [],
   "source": [
    "#G_epi_ui = nx.bipartite.read_edgelist(rating_path,\n",
    "#                                      create_using=nx.DiGraph,\n",
    "#                                      nodetype=int,\n",
    "#                                      data=((\"rating\", int),))"
   ]
  },
  {
   "cell_type": "code",
   "execution_count": 36,
   "metadata": {},
   "outputs": [],
   "source": [
    "df = pd.read_csv(rating_path, sep=' ', header=None, names=[\"Users\", \"Items\",\"Ratings\"], \n",
    "                 dtype={\"Users\":'int',\"Items\":'str',\"Ratings\":'int'}\n",
    "                )"
   ]
  },
  {
   "cell_type": "code",
   "execution_count": 38,
   "metadata": {},
   "outputs": [],
   "source": [
    "G_ui_epi = nx.Graph()\n",
    "\n",
    "users_set_epi = df['Users'].drop_duplicates()\n",
    "items_set_epi = df['Items'].drop_duplicates()\n",
    "\n",
    "G_ui_epi.add_nodes_from(users_set_epi,bipartite=0)\n",
    "G_ui_epi.add_nodes_from(items_set_epi,bipartite=1)\n"
   ]
  },
  {
   "cell_type": "code",
   "execution_count": 39,
   "metadata": {},
   "outputs": [],
   "source": [
    "#G_ui_epi.add_weighted_edges_from(\n",
    "#    [(row['Users'], row['Items'], row['Ratings']) for idx, row in df.iterrows()], \n",
    "#    weight='rating')\n",
    "G_ui_epi.add_weighted_edges_from(df.values,weight='rating')"
   ]
  },
  {
   "cell_type": "code",
   "execution_count": 40,
   "metadata": {},
   "outputs": [
    {
     "name": "stdout",
     "output_type": "stream",
     "text": [
      "Is graph bipartite ? : True\n"
     ]
    }
   ],
   "source": [
    "print(\"Is graph bipartite ? :\",nx.is_bipartite(G_ui_epi))"
   ]
  },
  {
   "cell_type": "markdown",
   "metadata": {},
   "source": [
    "### Size"
   ]
  },
  {
   "cell_type": "code",
   "execution_count": 41,
   "metadata": {},
   "outputs": [
    {
     "name": "stdout",
     "output_type": "stream",
     "text": [
      "users nodes: 40163 | items nodes: 139738 | edges (rating): 664824\n",
      "mean number of ratings per user: 16.55314593033389\n"
     ]
    }
   ],
   "source": [
    "users_size_epi = len(users_set_epi)\n",
    "items_size_epi = len(items_set_epi)\n",
    "rating_nb_edges = len(G_ui_epi.edges)\n",
    "\n",
    "print(\"users nodes:\", users_size_epi, \"| items nodes:\", items_size_epi, \"| edges (rating):\", rating_nb_edges)\n",
    "print(\"mean number of ratings per user:\", rating_nb_edges/users_size_epi)"
   ]
  },
  {
   "cell_type": "code",
   "execution_count": 42,
   "metadata": {},
   "outputs": [
    {
     "name": "stdout",
     "output_type": "stream",
     "text": [
      "number of isolated nodes :  0\n"
     ]
    }
   ],
   "source": [
    "print(\"number of isolated nodes : \",len(list(nx.isolates(G_ui_epi))))"
   ]
  },
  {
   "cell_type": "markdown",
   "metadata": {},
   "source": [
    "### Distribution\n",
    "Let's start with the user nodes of this user-item dataset"
   ]
  },
  {
   "cell_type": "code",
   "execution_count": 43,
   "metadata": {},
   "outputs": [
    {
     "data": {
      "image/png": "[encoded data removed]",
      "text/plain": [
       "<Figure size 432x288 with 1 Axes>"
      ]
     },
     "metadata": {
      "needs_background": "light"
     },
     "output_type": "display_data"
    }
   ],
   "source": [
    "density_epi_ui_u = plot_degree_dist(users_set_epi,G_ui_epi.degree,10)"
   ]
  },
  {
   "cell_type": "code",
   "execution_count": 44,
   "metadata": {},
   "outputs": [
    {
     "name": "stdout",
     "output_type": "stream",
     "text": [
      "0.6069516719368573 0\n"
     ]
    }
   ],
   "source": [
    "print(max(density_epi_ui_u[0])/users_size_epi,np.argmax(density_epi_ui_u[0]))"
   ]
  },
  {
   "cell_type": "markdown",
   "metadata": {},
   "source": [
    "We can see that 61\\% of users rated less than 10 items."
   ]
  },
  {
   "cell_type": "code",
   "execution_count": 45,
   "metadata": {},
   "outputs": [
    {
     "data": {
      "image/png": "[encoded data removed]",
      "text/plain": [
       "<Figure size 432x288 with 1 Axes>"
      ]
     },
     "metadata": {
      "needs_background": "light"
     },
     "output_type": "display_data"
    }
   ],
   "source": [
    "density_epi_ui_i = plot_degree_dist(items_set_epi,G_ui_epi.degree,10)"
   ]
  },
  {
   "cell_type": "code",
   "execution_count": 46,
   "metadata": {},
   "outputs": [
    {
     "name": "stdout",
     "output_type": "stream",
     "text": [
      "0.916579598963775 0\n"
     ]
    }
   ],
   "source": [
    "print(max(density_epi_ui_i[0])/items_size_epi,np.argmax(density_epi_ui_i[0]))"
   ]
  },
  {
   "cell_type": "markdown",
   "metadata": {},
   "source": [
    "92\\% of items are only being reviewed between 1 and 9 times by the users from this dataset."
   ]
  },
  {
   "cell_type": "markdown",
   "metadata": {},
   "source": [
    "### Distribution law\n",
    "Same as the previous dataset for the relationships between users. It's a Pareto distribution for both user degrees and items degrees, but the gradient is less steep from the inactive users to the more active ones."
   ]
  },
  {
   "cell_type": "markdown",
   "metadata": {},
   "source": [
    "### Stars repartition"
   ]
  },
  {
   "cell_type": "code",
   "execution_count": 115,
   "metadata": {},
   "outputs": [
    {
     "data": {
      "image/png": "[encoded data removed]",
      "text/plain": [
       "<Figure size 432x288 with 1 Axes>"
      ]
     },
     "metadata": {},
     "output_type": "display_data"
    }
   ],
   "source": [
    "import matplotlib.pyplot as plt\n",
    "\n",
    "n_bins = 5\n",
    "df_stars = df.groupby(\"Ratings\").size()\n",
    "\n",
    "labels = [ str(i) + \" stars\" for i in range(1,6)]\n",
    "sizes = list(df_stars.values)\n",
    "colors = ['red', 'gold', 'gray', 'lightgreen','green']\n",
    "\n",
    "plt.pie(sizes, labels=labels, colors=colors, \n",
    "        autopct='%1.1f%%', shadow=True, startangle=90)\n",
    "plt.axis('equal')\n",
    "plt.savefig('PieChartEpinions.png')\n",
    "plt.show()\n"
   ]
  },
  {
   "cell_type": "markdown",
   "metadata": {},
   "source": [
    "We can see that most reviews on Epinions site are 4 and 5 stars reviews, if this dataset is actually representative of the website."
   ]
  },
  {
   "cell_type": "markdown",
   "metadata": {},
   "source": [
    "### Density"
   ]
  },
  {
   "cell_type": "code",
   "execution_count": 21,
   "metadata": {},
   "outputs": [
    {
     "name": "stdout",
     "output_type": "stream",
     "text": [
      "0.0001184584431602992\n",
      "0.0001184584431602992\n",
      "4.108392652831394e-05\n"
     ]
    }
   ],
   "source": [
    "print(nx.algorithms.bipartite.density(G_ui_epi, items_set))\n",
    "print(nx.algorithms.bipartite.density(G_ui_epi, users_set))\n",
    "print(nx.density(G_ui_epi))"
   ]
  },
  {
   "cell_type": "markdown",
   "metadata": {},
   "source": [
    "Here we can see that the graph density does not really match what we can read in the study"
   ]
  },
  {
   "cell_type": "markdown",
   "metadata": {},
   "source": [
    "### Matrix sparcity"
   ]
  },
  {
   "cell_type": "code",
   "execution_count": 111,
   "metadata": {},
   "outputs": [
    {
     "data": {
      "text/plain": [
       "0.9999999996436397"
      ]
     },
     "execution_count": 111,
     "metadata": {},
     "output_type": "execute_result"
    }
   ],
   "source": [
    "matrix_sparcity(users_size_epi,items_size_epi,rating_nb_edges,True)"
   ]
  },
  {
   "cell_type": "markdown",
   "metadata": {},
   "source": [
    "## Delicious - User-items dataset"
   ]
  },
  {
   "cell_type": "code",
   "execution_count": 5,
   "metadata": {},
   "outputs": [],
   "source": [
    "tags_path = \"user_taggedbookmarks-timestamps.dat\""
   ]
  },
  {
   "cell_type": "code",
   "execution_count": 6,
   "metadata": {},
   "outputs": [],
   "source": [
    "data_tags = np.genfromtxt(tags_path,\n",
    "                     skip_header=1,\n",
    "                     dtype=int,\n",
    "                     names=True,\n",
    "                     usecols=(0,2),\n",
    "                     delimiter='\\t')"
   ]
  },
  {
   "cell_type": "code",
   "execution_count": 7,
   "metadata": {},
   "outputs": [],
   "source": [
    "df_del = pd.read_csv(tags_path, sep='\\t', usecols=[\"userID\",\"tagID\"],\n",
    "                     dtype={\"userID\":'int',\"tagID\":'str'}\n",
    "                    )\n",
    "\n",
    "#G_del = nx.from_edgelist(data)"
   ]
  },
  {
   "cell_type": "code",
   "execution_count": 8,
   "metadata": {},
   "outputs": [],
   "source": [
    "tag_weights = df_del.groupby([\"userID\",\"tagID\"]).size().reset_index()"
   ]
  },
  {
   "cell_type": "code",
   "execution_count": 9,
   "metadata": {},
   "outputs": [],
   "source": [
    "tag_weights.columns = [\"userID\",\"itemID\",\"weight\"]"
   ]
  },
  {
   "cell_type": "code",
   "execution_count": 10,
   "metadata": {},
   "outputs": [],
   "source": [
    "G_ui_del = nx.Graph()\n",
    "\n",
    "users_set_del = tag_weights['userID'].drop_duplicates()\n",
    "items_set_del = tag_weights['itemID'].drop_duplicates()\n",
    "\n",
    "G_ui_del.add_nodes_from(users_set_del,bipartite=0)\n",
    "G_ui_del.add_nodes_from(items_set_del,bipartite=1)"
   ]
  },
  {
   "cell_type": "code",
   "execution_count": 11,
   "metadata": {},
   "outputs": [],
   "source": [
    "G_ui_del.add_weighted_edges_from(tag_weights.values,weight='weight')"
   ]
  },
  {
   "cell_type": "markdown",
   "metadata": {},
   "source": [
    "### Size"
   ]
  },
  {
   "cell_type": "code",
   "execution_count": 20,
   "metadata": {},
   "outputs": [
    {
     "name": "stdout",
     "output_type": "stream",
     "text": [
      "nodes user: 1867 | nodes item: 40897 | edges (tags): 230942\n",
      "average number of tags per user: 123.69683985002678\n"
     ]
    }
   ],
   "source": [
    "users_size_del = len(users_set_del)\n",
    "items_size_del = len(items_set_del)\n",
    "tags_nb_edges = len(G_ui_del.edges)\n",
    "\n",
    "print(\"nodes user:\",users_size_del,\"| nodes item:\",items_size_del,\"| edges (tags):\",tags_nb_edges)\n",
    "print(\"average number of tags per user:\", tags_nb_edges/users_size_del)"
   ]
  },
  {
   "cell_type": "markdown",
   "metadata": {},
   "source": [
    "### Distribution"
   ]
  },
  {
   "cell_type": "code",
   "execution_count": 21,
   "metadata": {},
   "outputs": [
    {
     "data": {
      "image/png": "[encoded data removed]",
      "text/plain": [
       "<Figure size 432x288 with 1 Axes>"
      ]
     },
     "metadata": {
      "needs_background": "light"
     },
     "output_type": "display_data"
    }
   ],
   "source": [
    "density_del_ui_u = plot_degree_dist(users_set_del,G_ui_del.degree,10)"
   ]
  },
  {
   "cell_type": "code",
   "execution_count": 30,
   "metadata": {},
   "outputs": [],
   "source": [
    "def median_class(density_bins, size, bin_size):\n",
    "    i = 0\n",
    "    sum_prob = 0.0\n",
    "    while sum_prob < 0.5 :\n",
    "        sum_prob += density_bins[i]/size\n",
    "        i += 1\n",
    "    return sum_prob, (i*bin_size), (i+1)*bin_size-1"
   ]
  },
  {
   "cell_type": "code",
   "execution_count": 31,
   "metadata": {},
   "outputs": [
    {
     "data": {
      "text/plain": [
       "(0.5141938939475094, 110, 119)"
      ]
     },
     "execution_count": 31,
     "metadata": {},
     "output_type": "execute_result"
    }
   ],
   "source": [
    "median_class(density_del_ui_u[0],users_size_del,10)"
   ]
  },
  {
   "cell_type": "markdown",
   "metadata": {},
   "source": [
    "The median class here is [110, 119], which means than the median number of unique tags per user is between 110 and 119 tags."
   ]
  },
  {
   "cell_type": "code",
   "execution_count": 114,
   "metadata": {},
   "outputs": [
    {
     "data": {
      "image/png": "[encoded data removed]",
      "text/plain": [
       "<Figure size 432x288 with 1 Axes>"
      ]
     },
     "metadata": {
      "needs_background": "light"
     },
     "output_type": "display_data"
    }
   ],
   "source": [
    "density_del_ui_i = plot_degree_dist(items_set_del,G_ui_del.degree,10)"
   ]
  },
  {
   "cell_type": "code",
   "execution_count": 129,
   "metadata": {},
   "outputs": [
    {
     "name": "stdout",
     "output_type": "stream",
     "text": [
      "0.9171332860601022 0\n"
     ]
    }
   ],
   "source": [
    "print(max(density_del_ui_i[0])/items_size_del,np.argmax(density_del_ui_i[0]))"
   ]
  },
  {
   "cell_type": "markdown",
   "metadata": {},
   "source": [
    "92% of the tags are being used only a few times, between 1 and 9 times."
   ]
  },
  {
   "cell_type": "code",
   "execution_count": 63,
   "metadata": {},
   "outputs": [],
   "source": [
    "df_total_user = tag_weights.groupby(\"userID\").sum().reset_index()"
   ]
  },
  {
   "cell_type": "code",
   "execution_count": 78,
   "metadata": {},
   "outputs": [
    {
     "data": {
      "image/png": "[encoded data removed]",
      "text/plain": [
       "<Figure size 432x288 with 1 Axes>"
      ]
     },
     "metadata": {
      "needs_background": "light"
     },
     "output_type": "display_data"
    }
   ],
   "source": [
    "bin_size = 50\n",
    "totals = df_total_user['weight'].values\n",
    "plt.yscale('log')\n",
    "#plt.xscale('log')\n",
    "density_total = plt.hist(totals, bins=[i for i in range(0,max(totals)+bin_size,bin_size)])\n",
    "plt.show()"
   ]
  },
  {
   "cell_type": "code",
   "execution_count": 79,
   "metadata": {},
   "outputs": [
    {
     "data": {
      "text/plain": [
       "(0.5018746652383503, 200, 249)"
      ]
     },
     "execution_count": 79,
     "metadata": {},
     "output_type": "execute_result"
    }
   ],
   "source": [
    "median_class(density_total[0],users_size_del,50)"
   ]
  },
  {
   "cell_type": "markdown",
   "metadata": {},
   "source": [
    "The median user have put between 200 and 209 tags in their bookmarks."
   ]
  },
  {
   "cell_type": "markdown",
   "metadata": {},
   "source": [
    "### Distribution laws"
   ]
  },
  {
   "cell_type": "markdown",
   "metadata": {},
   "source": [
    "+ user degrees : follows an exponential law but not very steep\n",
    "+ item degrees : very steep exponential law (Pareto)\n",
    "+ total number of tags per user: follows an exponential law but not very steep"
   ]
  },
  {
   "cell_type": "markdown",
   "metadata": {},
   "source": [
    "### Matrix sparcity"
   ]
  },
  {
   "cell_type": "code",
   "execution_count": 114,
   "metadata": {},
   "outputs": [
    {
     "data": {
      "text/plain": [
       "0.9999999738064582"
      ]
     },
     "execution_count": 114,
     "metadata": {},
     "output_type": "execute_result"
    }
   ],
   "source": [
    "matrix_sparcity(users_size_del,items_size_del,tags_nb_edges,True)"
   ]
  },
  {
   "cell_type": "markdown",
   "metadata": {},
   "source": [
    "Very empty as usual"
   ]
  },
  {
   "cell_type": "code",
   "execution_count": null,
   "metadata": {},
   "outputs": [],
   "source": []
  }
 ],
 "metadata": {
  "kernelspec": {
   "display_name": "Python 3",
   "language": "python",
   "name": "python3"
  },
  "language_info": {
   "codemirror_mode": {
    "name": "ipython",
    "version": 3
   },
   "file_extension": ".py",
   "mimetype": "text/x-python",
   "name": "python",
   "nbconvert_exporter": "python",
   "pygments_lexer": "ipython3",
   "version": "3.7.1"
  }
 },
 "nbformat": 4,
 "nbformat_minor": 2
}
