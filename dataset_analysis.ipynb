{
 "cells": [
  {
   "cell_type": "code",
   "execution_count": 1,
   "metadata": {},
   "outputs": [
    {
     "name": "stdout",
     "output_type": "stream",
     "text": [
      "Collecting networkx\n",
      "  Downloading https://files.pythonhosted.org/packages/f3/b7/c7f488101c0bb5e4178f3cde416004280fd40262433496830de8a8c21613/networkx-2.5.1-py3-none-any.whl (1.6MB)\n",
      "\u001b[K    100% |████████████████████████████████| 1.6MB 144kB/s ta 0:00:01\n",
      "\u001b[?25hCollecting decorator<5,>=4.3 (from networkx)\n",
      "  Downloading https://files.pythonhosted.org/packages/ed/1b/72a1821152d07cf1d8b6fce298aeb06a7eb90f4d6d41acec9861e7cc6df0/decorator-4.4.2-py2.py3-none-any.whl\n",
      "Installing collected packages: decorator, networkx\n",
      "Successfully installed decorator-4.4.2 networkx-2.5.1\n"
     ]
    }
   ],
   "source": [
    "!pip3 install networkx"
   ]
  },
  {
   "cell_type": "code",
   "execution_count": 1,
   "metadata": {},
   "outputs": [],
   "source": [
    "import networkx as nx\n",
    "import pandas as pd\n",
    "import numpy as np"
   ]
  },
  {
   "cell_type": "markdown",
   "metadata": {},
   "source": [
    "## Epinions - first dataset"
   ]
  },
  {
   "cell_type": "markdown",
   "metadata": {},
   "source": [
    "We must first clean the mess within Epinions trust dataset in order to import it in NetworkX"
   ]
  },
  {
   "cell_type": "code",
   "execution_count": 2,
   "metadata": {},
   "outputs": [],
   "source": [
    "path_trust_epi = './trust_data.txt'\n",
    "path_trust_epi_clean = './trust_data_clean.txt'"
   ]
  },
  {
   "cell_type": "code",
   "execution_count": 3,
   "metadata": {},
   "outputs": [],
   "source": [
    "import os\n",
    "def remove_space(path,path_clean):\n",
    "    if os.path.exists(path_clean):\n",
    "        os.remove(path_clean)\n",
    "    with open(path_clean, 'w') as file_clean:\n",
    "        with open(path, 'r') as file:\n",
    "            for line in file:\n",
    "                file_clean.write(line[1:-1]+'\\n')"
   ]
  },
  {
   "cell_type": "code",
   "execution_count": 31,
   "metadata": {},
   "outputs": [],
   "source": [
    "remove_space(path_trust_epi,path_trust_epi_clean)"
   ]
  },
  {
   "cell_type": "code",
   "execution_count": 64,
   "metadata": {},
   "outputs": [],
   "source": [
    "G = nx.read_edgelist(path_trust_epi_clean, create_using=nx.DiGraph, nodetype=int, data=((\"weight\", int),))"
   ]
  },
  {
   "cell_type": "markdown",
   "metadata": {},
   "source": [
    "### Size"
   ]
  },
  {
   "cell_type": "code",
   "execution_count": 25,
   "metadata": {},
   "outputs": [
    {
     "name": "stdout",
     "output_type": "stream",
     "text": [
      "nodes (users): 49288 | edges (trust relations): 487183\n"
     ]
    }
   ],
   "source": [
    "trust_size = len(G.nodes)\n",
    "trust_nb_edges = len(G.edges)\n",
    "\n",
    "print(\"nodes (users):\", trust_size, \"|\", \"edges (trust relations):\", trust_nb_edges)"
   ]
  },
  {
   "cell_type": "markdown",
   "metadata": {},
   "source": [
    "### Distribution"
   ]
  },
  {
   "cell_type": "code",
   "execution_count": 55,
   "metadata": {},
   "outputs": [
    {
     "data": {
      "image/png": "[encoded data removed]",
      "text/plain": [
       "<Figure size 432x288 with 1 Axes>"
      ]
     },
     "metadata": {
      "needs_background": "light"
     },
     "output_type": "display_data"
    }
   ],
   "source": [
    "import matplotlib.pyplot as plt\n",
    "\n",
    "def plot_degree_dist(G,degree_func,bin_size):\n",
    "    degrees = [degree_func(n) for n in G.nodes()]\n",
    "    plt.yscale('log')\n",
    "    #plt.xscale('log')\n",
    "    density = plt.hist(degrees, bins=[i for i in range(0,max(degrees)+bin_size,bin_size)])\n",
    "    plt.show()\n",
    "    return density\n",
    "    \n",
    "density = plot_degree_dist(G,G.out_degree,5)"
   ]
  },
  {
   "cell_type": "code",
   "execution_count": 9,
   "metadata": {},
   "outputs": [
    {
     "name": "stdout",
     "output_type": "stream",
     "text": [
      "0.7017935400097387 0\n"
     ]
    }
   ],
   "source": [
    "print(max(density[0])/trust_size,np.argmax(density[0]))"
   ]
  },
  {
   "cell_type": "markdown",
   "metadata": {},
   "source": [
    "The size of the bins are currently 5, and the Y-scale is logarithmic.\n",
    "\n",
    "\n",
    "The most populated interval for out degree distribution is [0, 4] (second is [5, 9], then [10, 14], etc).\n",
    "It means that 70\\% of the users trust less than 5 other users."
   ]
  },
  {
   "cell_type": "code",
   "execution_count": 16,
   "metadata": {},
   "outputs": [
    {
     "name": "stdout",
     "output_type": "stream",
     "text": [
      "number of isolated nodes :  0\n"
     ]
    }
   ],
   "source": [
    "print(\"number of isolated nodes : \",len(list(nx.isolates(G))))"
   ]
  },
  {
   "cell_type": "markdown",
   "metadata": {},
   "source": [
    "There is no isolated node in this dataset, so it means 70% users trust between 1 and 4 other users."
   ]
  },
  {
   "cell_type": "markdown",
   "metadata": {},
   "source": [
    "### Distribution law\n",
    "We can see that our Epinions trust dataset follows a Pareto distribution (80-20 exponential distribution law)"
   ]
  },
  {
   "cell_type": "markdown",
   "metadata": {},
   "source": [
    "### Density"
   ]
  },
  {
   "cell_type": "code",
   "execution_count": 52,
   "metadata": {},
   "outputs": [
    {
     "data": {
      "text/plain": [
       "0.00020054809698621774"
      ]
     },
     "execution_count": 52,
     "metadata": {},
     "output_type": "execute_result"
    }
   ],
   "source": [
    "nx.density(G)"
   ]
  },
  {
   "cell_type": "markdown",
   "metadata": {},
   "source": [
    "Our social media has a very low density, which means that the user-user matrix will be very sparse."
   ]
  },
  {
   "cell_type": "markdown",
   "metadata": {},
   "source": [
    "## Delicious - second dataset"
   ]
  },
  {
   "cell_type": "code",
   "execution_count": 40,
   "metadata": {},
   "outputs": [],
   "source": [
    "path_contact_del = './user_contacts-timestamps.dat'"
   ]
  },
  {
   "cell_type": "code",
   "execution_count": 41,
   "metadata": {},
   "outputs": [
    {
     "name": "stdout",
     "output_type": "stream",
     "text": [
      "[( 8,  40306) ( 8,  85279) ( 8,  91764) ( 8,  97723) ( 8, 105468)\n",
      " ( 8, 106690) (32,   3203) (32,   7978) (32,   8670) (32,  12847)]\n"
     ]
    }
   ],
   "source": [
    "data = np.genfromtxt(path_contact_del,\n",
    "                     skip_header=1,\n",
    "                     dtype=int,\n",
    "                     names=True,\n",
    "                     usecols=(0,1),\n",
    "                     delimiter='\\t')\n",
    "print(data[0:10])"
   ]
  },
  {
   "cell_type": "code",
   "execution_count": 42,
   "metadata": {},
   "outputs": [],
   "source": [
    "G_del = nx.from_edgelist(data)"
   ]
  },
  {
   "cell_type": "markdown",
   "metadata": {},
   "source": [
    "Note that this time, the graph is undirected."
   ]
  },
  {
   "cell_type": "markdown",
   "metadata": {},
   "source": [
    "### Size"
   ]
  },
  {
   "cell_type": "code",
   "execution_count": 57,
   "metadata": {},
   "outputs": [
    {
     "name": "stdout",
     "output_type": "stream",
     "text": [
      "edges: 7664 | nodes: 1861\n"
     ]
    }
   ],
   "source": [
    "contact_size = len(list(G_del.edges))\n",
    "user_size = len(list(G_del.nodes))\n",
    "print(\"edges:\",contact_size,\"| nodes:\", user_size)"
   ]
  },
  {
   "cell_type": "code",
   "execution_count": 61,
   "metadata": {},
   "outputs": [
    {
     "name": "stdout",
     "output_type": "stream",
     "text": [
      "number of isolated nodes :  0\n"
     ]
    }
   ],
   "source": [
    "print(\"number of isolated nodes : \",len(list(nx.isolates(G_del))))"
   ]
  },
  {
   "cell_type": "markdown",
   "metadata": {},
   "source": [
    "### Distribution"
   ]
  },
  {
   "cell_type": "code",
   "execution_count": 58,
   "metadata": {},
   "outputs": [
    {
     "data": {
      "image/png": "[encoded data removed]",
      "text/plain": [
       "<Figure size 432x288 with 1 Axes>"
      ]
     },
     "metadata": {
      "needs_background": "light"
     },
     "output_type": "display_data"
    }
   ],
   "source": [
    "density_del = plot_degree_dist(G_del,G_del.degree,10)"
   ]
  },
  {
   "cell_type": "code",
   "execution_count": 59,
   "metadata": {},
   "outputs": [
    {
     "name": "stdout",
     "output_type": "stream",
     "text": [
      "0.7345513164965073 0\n"
     ]
    }
   ],
   "source": [
    "print(max(density_del[0])/user_size,np.argmax(density_del[0]))"
   ]
  },
  {
   "cell_type": "markdown",
   "metadata": {},
   "source": [
    "We observe the same phenomenom : 73\\% of users have between 1 and 9 contacts, even with an undirected graph."
   ]
  },
  {
   "cell_type": "markdown",
   "metadata": {},
   "source": [
    "### Distribution law\n",
    "Same as the previous dataset for the relationships between users : Pareto distribution"
   ]
  },
  {
   "cell_type": "markdown",
   "metadata": {},
   "source": [
    "### Density"
   ]
  },
  {
   "cell_type": "code",
   "execution_count": 62,
   "metadata": {},
   "outputs": [
    {
     "data": {
      "text/plain": [
       "0.0044281892611788085"
      ]
     },
     "execution_count": 62,
     "metadata": {},
     "output_type": "execute_result"
    }
   ],
   "source": [
    "nx.density(G_del)"
   ]
  },
  {
   "cell_type": "markdown",
   "metadata": {},
   "source": [
    "This dataset is way les sparce than Epinions, which means that the Delicious user-user matrix will be sparse\n",
    "but a lot less that what we estimated in Epinions."
   ]
  },
  {
   "cell_type": "code",
   "execution_count": null,
   "metadata": {},
   "outputs": [],
   "source": []
  }
 ],
 "metadata": {
  "kernelspec": {
   "display_name": "Python 3",
   "language": "python",
   "name": "python3"
  },
  "language_info": {
   "codemirror_mode": {
    "name": "ipython",
    "version": 3
   },
   "file_extension": ".py",
   "mimetype": "text/x-python",
   "name": "python",
   "nbconvert_exporter": "python",
   "pygments_lexer": "ipython3",
   "version": "3.7.1"
  }
 },
 "nbformat": 4,
 "nbformat_minor": 2
}
